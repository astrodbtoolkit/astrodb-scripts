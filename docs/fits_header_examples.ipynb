{
 "cells": [
  {
   "cell_type": "code",
   "execution_count": 1,
   "metadata": {},
   "outputs": [],
   "source": [
    "import sys\n",
    "\n",
    "import astropy.units as u\n",
    "import numpy as np\n",
    "\n",
    "sys.path.append('..')\n",
    "from astrodb_utils.fits import add_missing_keywords, add_observation_date, add_wavelength_keywords, check_header\n"
   ]
  },
  {
   "cell_type": "markdown",
   "metadata": {},
   "source": [
    "Make a new header, called `header` with the needed keywords set to None:"
   ]
  },
  {
   "cell_type": "code",
   "execution_count": 2,
   "metadata": {},
   "outputs": [
    {
     "name": "stdout",
     "output_type": "stream",
     "text": [
      "COPY AND PASTE THE FOLLOWING COMMANDS INTO YOUR SCRIPT\n",
      "Replace <value> with the appropriate value for your dataset\n",
      "If you're not sure of the correct value, use None\n",
      "If you started with a header object not called `header`, replace 'header' with the name of your header object\n",
      "Use the `add_wavelength_keywords` function to add the SPEC_VAL, SPEC_BW, and SPECBAND keywords\n",
      "\n",
      "\n",
      "header.set('OBJECT', \"<value>\")\n",
      "header.set('RA_TARG', \"<value>\")\n",
      "header.set('DEC_TARG', \"<value>\")\n",
      "header.set('DATE-OBS', \"<value>\")\n",
      "header.set('INSTRUME', \"<value>\")\n",
      "header.set('TELESCOP', \"<value>\")\n",
      "header.set('TELAPSE', \"<value>\")\n",
      "header.set('APERTURE', \"<value>\")\n",
      "header.set('AUTHOR', \"<value>\")\n",
      "header.set('TITLE', \"<value>\")\n",
      "header.set('VOREF', \"<value>\")\n",
      "header.set('VOPUB', \"<value>\")\n",
      "header.set('CONTRIB1', \"<value>\")\n",
      "header.set('SPEC_VAL', \"<value>\")\n",
      "header.set('SPEC_BW', \"<value>\")\n",
      "header.set('SPECBAND', \"<value>\")\n"
     ]
    }
   ],
   "source": [
    "header = add_missing_keywords()\n"
   ]
  },
  {
   "cell_type": "markdown",
   "metadata": {},
   "source": [
    "Add the wavelength header keywords:"
   ]
  },
  {
   "cell_type": "code",
   "execution_count": 3,
   "metadata": {},
   "outputs": [
    {
     "data": {
      "text/plain": [
       "OBJECT  =  / Name of observed object                                            \n",
       "RA_TARG =  / [deg] target position                                              \n",
       "DEC_TARG=  / [deg] target position                                              \n",
       "DATE-OBS=  / Date of observation                                                \n",
       "INSTRUME=  / Instrument name                                                    \n",
       "TELESCOP=  / Telescope name                                                     \n",
       "TELAPSE =  / [s] Total elapsed time (s)                                         \n",
       "APERTURE=  / [arcsec] slit width                                                \n",
       "AUTHOR  =  / Authors of original dataset                                        \n",
       "TITLE   =  / Dataset title                                                      \n",
       "VOREF   =  / URL, DOI, or bibcode of original publication                       \n",
       "VOPUB   =  / Publisher                                                          \n",
       "CONTRIB1=  / Contributor who generated this header                              \n",
       "SPEC_VAL=               5199.5 / [Angstrom] Characteristic spec coord           \n",
       "SPEC_BW =                199.0 / [Angstrom] Width of spectrum                   \n",
       "SPECBAND= 'em.opt.V'           / SED.bandpass                                   \n",
       "TDMIN1  =               5100.0 / [Angstrom] Starting wavelength                 \n",
       "TDMAX1  =               5299.0 / [Angstrom] Ending wavelength                   \n",
       "HISTORY Wavelength keywords added by astrodb_utils.fits.add_wavelength_keywords "
      ]
     },
     "execution_count": 3,
     "metadata": {},
     "output_type": "execute_result"
    }
   ],
   "source": [
    "wavelength = np.arange(5100, 5300)*u.AA\n",
    "add_wavelength_keywords(header, wavelength)\n",
    "header"
   ]
  },
  {
   "cell_type": "markdown",
   "metadata": {},
   "source": [
    "Add the observation date:"
   ]
  },
  {
   "cell_type": "code",
   "execution_count": 4,
   "metadata": {},
   "outputs": [
    {
     "name": "stdout",
     "output_type": "stream",
     "text": [
      "Date of observation: Jan 01, 2021\n",
      "DATE-OBS set to : 2021-01-01.\n"
     ]
    }
   ],
   "source": [
    "add_observation_date(header, '1/1/21')"
   ]
  },
  {
   "cell_type": "markdown",
   "metadata": {},
   "source": [
    "Run `add_missing_keywords`, this time with `header` as input, to see what keywords are still missing."
   ]
  },
  {
   "cell_type": "code",
   "execution_count": 5,
   "metadata": {},
   "outputs": [
    {
     "name": "stdout",
     "output_type": "stream",
     "text": [
      "COPY AND PASTE THE FOLLOWING COMMANDS INTO YOUR SCRIPT\n",
      "Replace <value> with the appropriate value for your dataset\n",
      "If you're not sure of the correct value, use None\n",
      "If you started with a header object not called `header`, replace 'header' with the name of your header object\n",
      "Use the `add_wavelength_keywords` function to add the SPEC_VAL, SPEC_BW, and SPECBAND keywords\n",
      "\n",
      "\n",
      "header.set('OBJECT', \"<value>\")\n",
      "header.set('RA_TARG', \"<value>\")\n",
      "header.set('DEC_TARG', \"<value>\")\n",
      "header.set('INSTRUME', \"<value>\")\n",
      "header.set('TELESCOP', \"<value>\")\n",
      "header.set('TELAPSE', \"<value>\")\n",
      "header.set('APERTURE', \"<value>\")\n",
      "header.set('AUTHOR', \"<value>\")\n",
      "header.set('TITLE', \"<value>\")\n",
      "header.set('VOREF', \"<value>\")\n",
      "header.set('VOPUB', \"<value>\")\n",
      "header.set('CONTRIB1', \"<value>\")\n"
     ]
    },
    {
     "data": {
      "text/plain": [
       "OBJECT  =  / Name of observed object                                            \n",
       "RA_TARG =  / [deg] target position                                              \n",
       "DEC_TARG=  / [deg] target position                                              \n",
       "DATE-OBS= '2021-01-01'         / date of the observation                        \n",
       "INSTRUME=  / Instrument name                                                    \n",
       "TELESCOP=  / Telescope name                                                     \n",
       "TELAPSE =  / [s] Total elapsed time (s)                                         \n",
       "APERTURE=  / [arcsec] slit width                                                \n",
       "AUTHOR  =  / Authors of original dataset                                        \n",
       "TITLE   =  / Dataset title                                                      \n",
       "VOREF   =  / URL, DOI, or bibcode of original publication                       \n",
       "VOPUB   =  / Publisher                                                          \n",
       "CONTRIB1=  / Contributor who generated this header                              \n",
       "SPEC_VAL=               5199.5 / [Angstrom] Characteristic spec coord           \n",
       "SPEC_BW =                199.0 / [Angstrom] Width of spectrum                   \n",
       "SPECBAND= 'em.opt.V'           / SED.bandpass                                   \n",
       "TDMIN1  =               5100.0 / [Angstrom] Starting wavelength                 \n",
       "TDMAX1  =               5299.0 / [Angstrom] Ending wavelength                   \n",
       "HISTORY Wavelength keywords added by astrodb_utils.fits.add_wavelength_keywords "
      ]
     },
     "execution_count": 5,
     "metadata": {},
     "output_type": "execute_result"
    }
   ],
   "source": [
    "add_missing_keywords(header=header)\n"
   ]
  },
  {
   "cell_type": "markdown",
   "metadata": {},
   "source": [
    "Set the remaining keywords by hand. If the keyword is not known, assign `None`.  The below values are just made up and not real."
   ]
  },
  {
   "cell_type": "code",
   "execution_count": 6,
   "metadata": {},
   "outputs": [],
   "source": [
    "header.set('OBJECT', \"SIMP J013656.5+093347.3\")\n",
    "header.set('RA_TARG', 24.2356689249292 )\n",
    "header.set('DEC_TARG', 9.5631422127692)\n",
    "header.set('INSTRUME', \"NIRSPEC\")\n",
    "header.set('TELESCOP', \"JWST\")\n",
    "header.set('TELAPSE', None)\n",
    "header.set('APERTURE', None)\n",
    "header.set('AUTHOR', \"McCarthy et al.\")\n",
    "header.set('TITLE', \"An amazing paper\")\n",
    "header.set('VOREF', \"10.3847/1538-3881/aa9d8b\")\n",
    "header.set('VOPUB', \"SIMPLE Archive https://simple-bd-archive.org/\")\n",
    "header.set('CONTRIB1', \"Kelle Cruz\")"
   ]
  },
  {
   "cell_type": "code",
   "execution_count": 7,
   "metadata": {},
   "outputs": [
    {
     "name": "stdout",
     "output_type": "stream",
     "text": [
      "The following keywords are not set in the header:\n",
      "TELAPSE : [s] Total elapsed time (s)\n",
      "APERTURE : [arcsec] slit width\n",
      "coordinates converted to sexagesimal: 01h36m56.56054198s +09d33m47.31196597s\n",
      "coordinates converted to sexagesimal: 01h36m56.56054198s +09d33m47.31196597s\n",
      "Object name SIMP J013656.5+093347.3 found in SIMBAD\n",
      "        MAIN_ID               RA      ...     COO_BIBCODE     SCRIPT_NUMBER_ID\n",
      "                           \"h:m:s\"    ...                                     \n",
      "----------------------- ------------- ... ------------------- ----------------\n",
      "SIMP J013656.5+093347.3 01 36 56.5605 ... 2020yCat.1350....0G                1\n",
      "make sure SIMBAD coords match header coords\n",
      "DATE-OBS set to : 2021-01-01.\n",
      "Date of observation: Jan 01, 2021\n"
     ]
    },
    {
     "data": {
      "text/plain": [
       "True"
      ]
     },
     "execution_count": 7,
     "metadata": {},
     "output_type": "execute_result"
    }
   ],
   "source": [
    "check_header(header)"
   ]
  }
 ],
 "metadata": {
  "kernelspec": {
   "display_name": "simple-db",
   "language": "python",
   "name": "python3"
  },
  "language_info": {
   "codemirror_mode": {
    "name": "ipython",
    "version": 3
   },
   "file_extension": ".py",
   "mimetype": "text/x-python",
   "name": "python",
   "nbconvert_exporter": "python",
   "pygments_lexer": "ipython3",
   "version": "3.11.4"
  }
 },
 "nbformat": 4,
 "nbformat_minor": 2
}
