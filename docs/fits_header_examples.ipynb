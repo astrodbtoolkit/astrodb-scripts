{
 "cells": [
  {
   "cell_type": "code",
   "execution_count": 3,
   "metadata": {},
   "outputs": [
    {
     "ename": "ModuleNotFoundError",
     "evalue": "No module named 'astrodb_utils'",
     "output_type": "error",
     "traceback": [
      "\u001b[0;31m---------------------------------------------------------------------------\u001b[0m",
      "\u001b[0;31mModuleNotFoundError\u001b[0m                       Traceback (most recent call last)",
      "Cell \u001b[0;32mIn[3], line 4\u001b[0m\n\u001b[1;32m      1\u001b[0m \u001b[38;5;28;01mimport\u001b[39;00m \u001b[38;5;21;01mastropy\u001b[39;00m\u001b[38;5;21;01m.\u001b[39;00m\u001b[38;5;21;01munits\u001b[39;00m \u001b[38;5;28;01mas\u001b[39;00m \u001b[38;5;21;01mu\u001b[39;00m\n\u001b[1;32m      2\u001b[0m \u001b[38;5;28;01mimport\u001b[39;00m \u001b[38;5;21;01mnumpy\u001b[39;00m \u001b[38;5;28;01mas\u001b[39;00m \u001b[38;5;21;01mnp\u001b[39;00m\n\u001b[0;32m----> 4\u001b[0m \u001b[38;5;28;01mfrom\u001b[39;00m \u001b[38;5;21;01mastrodb_utils\u001b[39;00m\u001b[38;5;21;01m.\u001b[39;00m\u001b[38;5;21;01mfits\u001b[39;00m \u001b[38;5;28;01mimport\u001b[39;00m add_missing_keywords, add_observation_date, add_wavelength_keywords, check_header\n",
      "\u001b[0;31mModuleNotFoundError\u001b[0m: No module named 'astrodb_utils'"
     ]
    }
   ],
   "source": [
    "import astropy.units as u\n",
    "import numpy as np\n",
    "\n",
    "from astrodb_utils.fits import add_missing_keywords, add_observation_date, add_wavelength_keywords, check_header\n"
   ]
  },
  {
   "cell_type": "code",
   "execution_count": 65,
   "metadata": {},
   "outputs": [
    {
     "name": "stdout",
     "output_type": "stream",
     "text": [
      "COPY AND PASTE THE FOLLOWING COMMANDS INTO YOUR SCRIPT\n",
      "Replace <value> with the appropriate value for your dataset\n",
      "If you're not sure of the correct value, use None\n",
      "If you started with a header object not called `header`, replace 'header' with the name of your header object\n",
      "Use the `add_wavelength_keywords` function to add the SPEC_VAL, SPEC_BW, and SPECBAND keywords\n",
      "\n",
      "\n",
      "header.set('OBJECT', <value>)  # Name of observed object\n",
      "header.set('RA_TARG', <value>)  # [deg] target position\n",
      "header.set('DEC_TARG', <value>)  # [deg] target position\n",
      "header.set('DATE-OBS', <value>)  # Date of observation\n",
      "header.set('INSTRUME', <value>)  # Instrument name\n",
      "header.set('TELESCOP', <value>)  # Telescope name\n",
      "header.set('TELAPSE', <value>)  # [s] Total elapsed time (s)\n",
      "header.set('APERTURE', <value>)  # [arcsec] slit width\n",
      "header.set('AUTHOR', <value>)  # First author of original dataset\n",
      "header.set('TITLE', <value>)  # Dataset title \n",
      "header.set('VOREF', <value>)  # URL, DOI, or bibcode of original publication\n",
      "header.set('VOPUB', <value>)  # Publisher\n",
      "header.set('CONTRIB1', <value>)  # Contributor who generated this header\n",
      "header.set('SPEC_VAL', <value>)  # [angstrom] Characteristic spectral coordinate\n",
      "header.set('SPEC_BW', <value>)  # [angstrom] width of spectrum\n",
      "header.set('SPECBAND', <value>)  # SED.bandpass\n",
      "Wavelength keywords added to header:\n",
      "SPECBAND= 'em.opt.V'           / SED.bandpass                                   \n",
      "SPEC_VAL=               5199.5 / [Angstrom] Characteristic spec coord           \n",
      "SPEC_BW =                199.0 / [Angstrom] Width of spectrum                   \n",
      "TDMIN1  =               5100.0 / [Angstrom] Starting wavelength                 \n",
      "TDMAX1  =               5299.0 / [Angstrom] Ending wavelength                   \n"
     ]
    },
    {
     "data": {
      "text/plain": [
       "OBJECT  =  / Name of observed object                                            \n",
       "RA_TARG =  / [deg] target position                                              \n",
       "DEC_TARG=  / [deg] target position                                              \n",
       "DATE-OBS=  / Date of observation                                                \n",
       "INSTRUME=  / Instrument name                                                    \n",
       "TELESCOP=  / Telescope name                                                     \n",
       "TELAPSE =  / [s] Total elapsed time (s)                                         \n",
       "APERTURE=  / [arcsec] slit width                                                \n",
       "AUTHOR  =  / First author of original dataset                                   \n",
       "TITLE   =  / Dataset title                                                      \n",
       "VOREF   =  / URL, DOI, or bibcode of original publication                       \n",
       "VOPUB   =  / Publisher                                                          \n",
       "CONTRIB1=  / Contributor who generated this header                              \n",
       "SPEC_VAL=               5199.5 / [Angstrom] Characteristic spec coord           \n",
       "SPEC_BW =                199.0 / [Angstrom] Width of spectrum                   \n",
       "SPECBAND= 'em.opt.V'           / SED.bandpass                                   \n",
       "TDMIN1  =               5100.0 / [Angstrom] Starting wavelength                 \n",
       "TDMAX1  =               5299.0 / [Angstrom] Ending wavelength                   \n",
       "HISTORY Wavelength keywords added by astrodb_utils.fits.add_wavelength_keywords "
      ]
     },
     "execution_count": 65,
     "metadata": {},
     "output_type": "execute_result"
    }
   ],
   "source": [
    "header = add_missing_keywords()\n",
    "wavelength = np.arange(5100, 5300)*u.AA\n",
    "add_wavelength_keywords(header, wavelength)\n",
    "header"
   ]
  },
  {
   "cell_type": "code",
   "execution_count": 67,
   "metadata": {},
   "outputs": [
    {
     "name": "stdout",
     "output_type": "stream",
     "text": [
      "COPY AND PASTE THE FOLLOWING COMMANDS INTO YOUR SCRIPT\n",
      "Replace <value> with the appropriate value for your dataset\n",
      "If you're not sure of the correct value, use None\n",
      "If you started with a header object not called `header`, replace 'header' with the name of your header object\n",
      "Use the `add_wavelength_keywords` function to add the SPEC_VAL, SPEC_BW, and SPECBAND keywords\n",
      "\n",
      "\n",
      "header.set('OBJECT', <value>)  # Name of observed object\n",
      "header.set('RA_TARG', <value>)  # [deg] target position\n",
      "header.set('DEC_TARG', <value>)  # [deg] target position\n",
      "header.set('DATE-OBS', <value>)  # Date of observation\n",
      "header.set('INSTRUME', <value>)  # Instrument name\n",
      "header.set('TELESCOP', <value>)  # Telescope name\n",
      "header.set('TELAPSE', <value>)  # [s] Total elapsed time (s)\n",
      "header.set('APERTURE', <value>)  # [arcsec] slit width\n",
      "header.set('AUTHOR', <value>)  # First author of original dataset\n",
      "header.set('TITLE', <value>)  # Dataset title \n",
      "header.set('VOREF', <value>)  # URL, DOI, or bibcode of original publication\n",
      "header.set('VOPUB', <value>)  # Publisher\n",
      "header.set('CONTRIB1', <value>)  # Contributor who generated this header\n",
      "header.set('SPEC_VAL', <value>)  # [angstrom] Characteristic spectral coordinate\n",
      "header.set('SPEC_BW', <value>)  # [angstrom] width of spectrum\n",
      "header.set('SPECBAND', <value>)  # SED.bandpass\n",
      "Date of observation: Jan 01, 2021\n",
      "DATE-OBS set to : 2021-01-01.\n"
     ]
    }
   ],
   "source": [
    "add_missing_keywords()\n",
    "add_observation_date(header, '1/1/21')"
   ]
  },
  {
   "cell_type": "code",
   "execution_count": null,
   "metadata": {},
   "outputs": [],
   "source": [
    "check_header(header)"
   ]
  }
 ],
 "metadata": {
  "kernelspec": {
   "display_name": "simple-db",
   "language": "python",
   "name": "python3"
  },
  "language_info": {
   "codemirror_mode": {
    "name": "ipython",
    "version": 3
   },
   "file_extension": ".py",
   "mimetype": "text/x-python",
   "name": "python",
   "nbconvert_exporter": "python",
   "pygments_lexer": "ipython3",
   "version": "3.10.13"
  }
 },
 "nbformat": 4,
 "nbformat_minor": 2
}
